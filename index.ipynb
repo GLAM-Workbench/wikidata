{
 "cells": [
  {
   "cell_type": "markdown",
   "id": "0d185ae4",
   "metadata": {},
   "source": [
    "# Wikidata\n",
    "\n",
    "Current version: [v1.0.0](https://github.com/GLAM-Workbench/wikidata/releases/tag/v1.0.0)\n",
    "\n",
    "Tools and examples for working with GLAM information in Wikidata. For more information see the [Wikidata](https://glam-workbench.net/wikidata/) section of the GLAM Workbench.\n",
    "\n",
    "## Notebook topics\n",
    "\n",
    "* [Create a Gannt chart of Australian government departments](agencies-gannt-timeline.ipynb) – visualises life dates of government departments\n",
    "* [Create a network graph visualisation of Australian government departments](govt-agencies-network.ipynb) – visualises changes in Australian government departments over time\n",
    "* [Visualise the connections of a single Australian government agency](single-agency-network.ipynb)\n",
    "\n",
    "See the [GLAM Workbench for more details](https://glam-workbench.github.io/wikidata/).\n"
   ]
  },
  {
   "cell_type": "markdown",
   "id": "52d39e88",
   "metadata": {},
   "source": [
    "## Cite as\n",
    "\n",
    "See the GLAM Workbench or [Zenodo](https://doi.org/10.5281/zenodo.3521724) for up-to-date citation details.\n",
    "\n",
    "----\n",
    "\n",
    "This repository is part of the [GLAM Workbench](https://glam-workbench.github.io/).  \n",
    "\n",
    "The development of the Wikidata section of the GLAM Workbench was supported by [Wikimedia Australia](https://wikimedia.org.au/wiki/Wikimedia_Australia)."
   ]
  }
 ],
 "metadata": {
  "jupytext": {
   "cell_metadata_filter": "-all"
  },
  "kernelspec": {
   "display_name": "Python 3 (ipykernel)",
   "language": "python",
   "name": "python3"
  }
 },
 "nbformat": 4,
 "nbformat_minor": 5
}
