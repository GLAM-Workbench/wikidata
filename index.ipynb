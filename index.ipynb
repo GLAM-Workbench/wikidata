{
 "cells": [
  {
   "cell_type": "markdown",
   "id": "d3287fa4",
   "metadata": {},
   "source": [
    "# wikidata\n"
   ]
  },
  {
   "cell_type": "markdown",
   "id": "ab375816",
   "metadata": {},
   "source": [
    "For more information and documentation see the [Wikidata - GLAM Workbench](https://glam-workbench.net/wikidata/) section of the [GLAM Workbench](https://glam-workbench.net).\n",
    "\n",
    "## Notebooks\n",
    "- [Create a Gannt chart of Australian government departments](https://github.com/GLAM-Workbench/wikidata/blob/master/agencies-gannt-timeline.ipynb)\n",
    "- [Create a network graph visualisation of Australian government departments](https://github.com/GLAM-Workbench/wikidata/blob/master/govt-agencies-network.ipynb)\n",
    "- [Visualise the network of Australian people identifiers](https://github.com/GLAM-Workbench/wikidata/blob/master/visualise_all_people_ids.ipynb)\n",
    "- [Visualise the connections of a single Australian government agency](https://github.com/GLAM-Workbench/wikidata/blob/master/single-agency-network.ipynb)\n"
   ]
  },
  {
   "cell_type": "markdown",
   "id": "aa563fff",
   "metadata": {},
   "source": [
    "----\n",
    "Created by [Tim Sherratt](https://timsherratt.au) for the [GLAM Workbench](https://glam-workbench.net)"
   ]
  }
 ],
 "metadata": {
  "jupytext": {
   "cell_metadata_filter": "-all"
  },
  "kernelspec": {
   "display_name": "Python 3 (ipykernel)",
   "language": "python",
   "name": "python3"
  }
 },
 "nbformat": 4,
 "nbformat_minor": 5
}
