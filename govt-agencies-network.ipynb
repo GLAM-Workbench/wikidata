{
 "cells": [
  {
   "cell_type": "markdown",
   "id": "0fbbd111-6c72-4452-8747-f8a8e68155d9",
   "metadata": {},
   "source": [
    "# Create a network graph visualisation of Australian government departments\n",
    "\n",
    "This notebook visualises changes in Australian government departments over time, using data from Wikidata. It creates a hierarchically-ordered network graph where each agency is represented as a node whose position and colour is determined by the decade in which the agency was created. The size of the node indicates how long the agency was in existence, while edges between nodes connect agencies to their successors. Earliest agencies will be at the top of the graph.\n",
    "\n",
    "You can [view the query](https://w.wiki/5tVh) used to generate this graph using the Wikidata Query Service."
   ]
  },
  {
   "cell_type": "code",
   "execution_count": 1,
   "id": "6dfdf0a6-eb86-47a9-b595-0640faa16fba",
   "metadata": {},
   "outputs": [],
   "source": [
    "import json\n",
    "\n",
    "import arrow\n",
    "import pandas as pd\n",
    "from IPython.display import IFrame, display\n",
    "from pyvis.network import Network\n",
    "from SPARQLWrapper import JSON, SPARQLWrapper"
   ]
  },
  {
   "cell_type": "code",
   "execution_count": 2,
   "id": "14fe492f-5528-4c63-b9c5-61ae0eefa985",
   "metadata": {
    "tags": [
     "hide_cell"
    ]
   },
   "outputs": [],
   "source": [
    "sparql = SPARQLWrapper(\"https://query.wikidata.org/sparql\")\n",
    "\n",
    "sparql.setQuery(\n",
    "    \"\"\"\n",
    "SELECT\n",
    "  ?item ?label\n",
    "  ?id ?start_date ?end_date ?after_id\n",
    "WHERE\n",
    "{\n",
    "  ?item wdt:P31 wd:Q57605562;\n",
    "        wdt:P10856 ?id;\n",
    "        wdt:P571 ?start_date;\n",
    "        rdfs:label ?agency_label.\n",
    "  OPTIONAL { ?item wdt:P576 ?end_date. }\n",
    "  OPTIONAL { ?item wdt:P1366 ?after.\n",
    "             ?after wdt:P10856 ?after_id. }\n",
    "  FILTER (lang(?agency_label) = \"en\").\n",
    "  # Combine start and end year into a single string, setting end date to \"\" if it doesn't exist\n",
    "  BIND(concat(xsd:string(YEAR(?start_date)), \"-\", COALESCE(xsd:string(YEAR(?end_date)), \"\")) as ?date_range)\n",
    "  # Combine dept name and date range into a single string\n",
    "  BIND(concat(?agency_label, \" (\", ?date_range, \")\") as ?label)\n",
    "  SERVICE wikibase:label { bd:serviceParam wikibase:language \"[AUTO_LANGUAGE],en\". }\n",
    "}\n",
    "\"\"\"\n",
    ")"
   ]
  },
  {
   "cell_type": "code",
   "execution_count": 3,
   "id": "600960d8-d8e1-400b-8bc8-6c68ac8c5d3e",
   "metadata": {},
   "outputs": [],
   "source": [
    "sparql.setReturnFormat(JSON)\n",
    "results = sparql.query().convert()\n",
    "df = pd.json_normalize(results[\"results\"][\"bindings\"], sep=\"_\")"
   ]
  },
  {
   "cell_type": "code",
   "execution_count": 4,
   "id": "4bfd91b9-c1a7-45e9-a356-7f57ffbf2eb6",
   "metadata": {
    "tags": [
     "hide_cell"
    ]
   },
   "outputs": [
    {
     "data": {
      "text/html": [
       "<div>\n",
       "<style scoped>\n",
       "    .dataframe tbody tr th:only-of-type {\n",
       "        vertical-align: middle;\n",
       "    }\n",
       "\n",
       "    .dataframe tbody tr th {\n",
       "        vertical-align: top;\n",
       "    }\n",
       "\n",
       "    .dataframe thead th {\n",
       "        text-align: right;\n",
       "    }\n",
       "</style>\n",
       "<table border=\"1\" class=\"dataframe\">\n",
       "  <thead>\n",
       "    <tr style=\"text-align: right;\">\n",
       "      <th></th>\n",
       "      <th>item_type</th>\n",
       "      <th>item_value</th>\n",
       "      <th>after_id_type</th>\n",
       "      <th>after_id_value</th>\n",
       "      <th>id_type</th>\n",
       "      <th>id_value</th>\n",
       "      <th>start_date_datatype</th>\n",
       "      <th>start_date_type</th>\n",
       "      <th>start_date_value</th>\n",
       "      <th>end_date_datatype</th>\n",
       "      <th>end_date_type</th>\n",
       "      <th>end_date_value</th>\n",
       "      <th>label_type</th>\n",
       "      <th>label_value</th>\n",
       "    </tr>\n",
       "  </thead>\n",
       "  <tbody>\n",
       "    <tr>\n",
       "      <th>0</th>\n",
       "      <td>uri</td>\n",
       "      <td>http://www.wikidata.org/entity/Q16956444</td>\n",
       "      <td>literal</td>\n",
       "      <td>CA 1954</td>\n",
       "      <td>literal</td>\n",
       "      <td>CA 1869</td>\n",
       "      <td>http://www.w3.org/2001/XMLSchema#dateTime</td>\n",
       "      <td>literal</td>\n",
       "      <td>1975-04-21T00:00:00Z</td>\n",
       "      <td>http://www.w3.org/2001/XMLSchema#dateTime</td>\n",
       "      <td>literal</td>\n",
       "      <td>1975-12-22T00:00:00Z</td>\n",
       "      <td>literal</td>\n",
       "      <td>Department of the Environment (1975-1975)</td>\n",
       "    </tr>\n",
       "    <tr>\n",
       "      <th>1</th>\n",
       "      <td>uri</td>\n",
       "      <td>http://www.wikidata.org/entity/Q16956444</td>\n",
       "      <td>literal</td>\n",
       "      <td>CA 1957</td>\n",
       "      <td>literal</td>\n",
       "      <td>CA 1869</td>\n",
       "      <td>http://www.w3.org/2001/XMLSchema#dateTime</td>\n",
       "      <td>literal</td>\n",
       "      <td>1975-04-21T00:00:00Z</td>\n",
       "      <td>http://www.w3.org/2001/XMLSchema#dateTime</td>\n",
       "      <td>literal</td>\n",
       "      <td>1975-12-22T00:00:00Z</td>\n",
       "      <td>literal</td>\n",
       "      <td>Department of the Environment (1975-1975)</td>\n",
       "    </tr>\n",
       "    <tr>\n",
       "      <th>2</th>\n",
       "      <td>uri</td>\n",
       "      <td>http://www.wikidata.org/entity/Q16956449</td>\n",
       "      <td>literal</td>\n",
       "      <td>CA 1476</td>\n",
       "      <td>literal</td>\n",
       "      <td>CA 1407</td>\n",
       "      <td>http://www.w3.org/2001/XMLSchema#dateTime</td>\n",
       "      <td>literal</td>\n",
       "      <td>1971-05-31T00:00:00Z</td>\n",
       "      <td>http://www.w3.org/2001/XMLSchema#dateTime</td>\n",
       "      <td>literal</td>\n",
       "      <td>1972-12-19T00:00:00Z</td>\n",
       "      <td>literal</td>\n",
       "      <td>Department of the Environment, Aborigines and ...</td>\n",
       "    </tr>\n",
       "    <tr>\n",
       "      <th>3</th>\n",
       "      <td>uri</td>\n",
       "      <td>http://www.wikidata.org/entity/Q16956449</td>\n",
       "      <td>literal</td>\n",
       "      <td>CA 1479</td>\n",
       "      <td>literal</td>\n",
       "      <td>CA 1407</td>\n",
       "      <td>http://www.w3.org/2001/XMLSchema#dateTime</td>\n",
       "      <td>literal</td>\n",
       "      <td>1971-05-31T00:00:00Z</td>\n",
       "      <td>http://www.w3.org/2001/XMLSchema#dateTime</td>\n",
       "      <td>literal</td>\n",
       "      <td>1972-12-19T00:00:00Z</td>\n",
       "      <td>literal</td>\n",
       "      <td>Department of the Environment, Aborigines and ...</td>\n",
       "    </tr>\n",
       "    <tr>\n",
       "      <th>4</th>\n",
       "      <td>uri</td>\n",
       "      <td>http://www.wikidata.org/entity/Q16956449</td>\n",
       "      <td>literal</td>\n",
       "      <td>CA 1486</td>\n",
       "      <td>literal</td>\n",
       "      <td>CA 1407</td>\n",
       "      <td>http://www.w3.org/2001/XMLSchema#dateTime</td>\n",
       "      <td>literal</td>\n",
       "      <td>1971-05-31T00:00:00Z</td>\n",
       "      <td>http://www.w3.org/2001/XMLSchema#dateTime</td>\n",
       "      <td>literal</td>\n",
       "      <td>1972-12-19T00:00:00Z</td>\n",
       "      <td>literal</td>\n",
       "      <td>Department of the Environment, Aborigines and ...</td>\n",
       "    </tr>\n",
       "  </tbody>\n",
       "</table>\n",
       "</div>"
      ],
      "text/plain": [
       "  item_type                                item_value after_id_type  \\\n",
       "0       uri  http://www.wikidata.org/entity/Q16956444       literal   \n",
       "1       uri  http://www.wikidata.org/entity/Q16956444       literal   \n",
       "2       uri  http://www.wikidata.org/entity/Q16956449       literal   \n",
       "3       uri  http://www.wikidata.org/entity/Q16956449       literal   \n",
       "4       uri  http://www.wikidata.org/entity/Q16956449       literal   \n",
       "\n",
       "  after_id_value  id_type id_value                        start_date_datatype  \\\n",
       "0        CA 1954  literal  CA 1869  http://www.w3.org/2001/XMLSchema#dateTime   \n",
       "1        CA 1957  literal  CA 1869  http://www.w3.org/2001/XMLSchema#dateTime   \n",
       "2        CA 1476  literal  CA 1407  http://www.w3.org/2001/XMLSchema#dateTime   \n",
       "3        CA 1479  literal  CA 1407  http://www.w3.org/2001/XMLSchema#dateTime   \n",
       "4        CA 1486  literal  CA 1407  http://www.w3.org/2001/XMLSchema#dateTime   \n",
       "\n",
       "  start_date_type      start_date_value  \\\n",
       "0         literal  1975-04-21T00:00:00Z   \n",
       "1         literal  1975-04-21T00:00:00Z   \n",
       "2         literal  1971-05-31T00:00:00Z   \n",
       "3         literal  1971-05-31T00:00:00Z   \n",
       "4         literal  1971-05-31T00:00:00Z   \n",
       "\n",
       "                           end_date_datatype end_date_type  \\\n",
       "0  http://www.w3.org/2001/XMLSchema#dateTime       literal   \n",
       "1  http://www.w3.org/2001/XMLSchema#dateTime       literal   \n",
       "2  http://www.w3.org/2001/XMLSchema#dateTime       literal   \n",
       "3  http://www.w3.org/2001/XMLSchema#dateTime       literal   \n",
       "4  http://www.w3.org/2001/XMLSchema#dateTime       literal   \n",
       "\n",
       "         end_date_value label_type  \\\n",
       "0  1975-12-22T00:00:00Z    literal   \n",
       "1  1975-12-22T00:00:00Z    literal   \n",
       "2  1972-12-19T00:00:00Z    literal   \n",
       "3  1972-12-19T00:00:00Z    literal   \n",
       "4  1972-12-19T00:00:00Z    literal   \n",
       "\n",
       "                                         label_value  \n",
       "0          Department of the Environment (1975-1975)  \n",
       "1          Department of the Environment (1975-1975)  \n",
       "2  Department of the Environment, Aborigines and ...  \n",
       "3  Department of the Environment, Aborigines and ...  \n",
       "4  Department of the Environment, Aborigines and ...  "
      ]
     },
     "execution_count": 4,
     "metadata": {},
     "output_type": "execute_result"
    }
   ],
   "source": [
    "df.head()"
   ]
  },
  {
   "cell_type": "code",
   "execution_count": 5,
   "id": "59fc0ebf-dc52-4790-94c7-2b51c7d416cd",
   "metadata": {
    "tags": [
     "hide_cell"
    ]
   },
   "outputs": [],
   "source": [
    "# Tableau style colours from http://tableaufriction.blogspot.com/2012/11/finally-you-can-use-tableau-data-colors.html\n",
    "rgb = [\n",
    "    \"255.187.120\",\n",
    "    \"255.127.14\",\n",
    "    \"174.199.232\",\n",
    "    \"44.160.44\",\n",
    "    \"31.119.180\",\n",
    "    \"255.152.150\",\n",
    "    \"214.39.40\",\n",
    "    \"197.176.213\",\n",
    "    \"152.223.138\",\n",
    "    \"148.103.189\",\n",
    "    \"247.182.210\",\n",
    "    \"227.119.194\",\n",
    "    \"196.156.148\",\n",
    "    \"140.86.75\",\n",
    "    \"127.127.127\",\n",
    "    \"219.219.141\",\n",
    "    \"199.199.199\",\n",
    "    \"188.189.34\",\n",
    "    \"158.218.229\",\n",
    "    \"23.190.207\",\n",
    "]\n",
    "\n",
    "\n",
    "def make_darker(colour, factor=0.75):\n",
    "    \"\"\"\n",
    "    Darken colour by given factor.\n",
    "    \"\"\"\n",
    "    return [str(round(int(c) * factor)) for c in colour]\n",
    "\n",
    "\n",
    "def make_lighter(colour, factor=0.75):\n",
    "    \"\"\"\n",
    "    Lighten colour by given factor.\n",
    "    \"\"\"\n",
    "    return [str(round((255 - int(c)) * factor) + int(c)) for c in colour]\n",
    "\n",
    "\n",
    "# List of Tableau style colours\n",
    "colours = [f'rgb({\",\".join(r.split(\".\"))})' for r in rgb]\n",
    "# List of darkened colors\n",
    "borders = [f'rgb({\",\".join(make_darker(r.split(\".\")))})' for r in rgb]\n",
    "# List of lightened colours\n",
    "highlights = [f'rgb({\",\".join(make_lighter(r.split(\".\")))})' for r in rgb]\n",
    "\n",
    "# Create groups for each decade in the date range, assigning a different colour for each group\n",
    "decades = [str(d) for d in range(190, 203)]\n",
    "decade_groups = {\n",
    "    d: {\n",
    "        \"color\": {\n",
    "            \"background\": colours[i],\n",
    "            \"border\": borders[i],\n",
    "            \"highlight\": {\"background\": highlights[i], \"border\": borders[i]},\n",
    "        }\n",
    "    }\n",
    "    for i, d in enumerate(decades)\n",
    "}\n",
    "\n",
    "# Calculate the possible range of values for the length of an agency's existence\n",
    "max_days = (arrow.utcnow() - arrow.get(\"1901-01-01\")).days\n",
    "min_days = 1\n",
    "current_range = max_days - min_days\n",
    "\n",
    "\n",
    "def calculate_size(start, end, current_range=current_range, biggest=150, smallest=30):\n",
    "    \"\"\"\n",
    "    Calculate the size of nodes based on each agency's length of existence.\n",
    "    Adjust value to fall with the desired range.\n",
    "    See: https://stackoverflow.com/a/929107\n",
    "    \"\"\"\n",
    "    start_date = arrow.get(start)\n",
    "    try:\n",
    "        end_date = arrow.get(end)\n",
    "    except (ValueError, TypeError):\n",
    "        end_date = arrow.utcnow()\n",
    "    delta = end_date - start_date\n",
    "    return (((delta.days - 1) * (biggest - smallest)) / current_range) + 20"
   ]
  },
  {
   "cell_type": "code",
   "execution_count": 6,
   "id": "4ab5f05f-be42-4f3e-a280-225f1aa95232",
   "metadata": {
    "tags": [
     "hide_cell"
    ]
   },
   "outputs": [],
   "source": [
    "net = Network(notebook=True, cdn_resources=\"remote\")"
   ]
  },
  {
   "cell_type": "code",
   "execution_count": 7,
   "id": "88286772-5533-42e1-9d5a-3f8d0bffe593",
   "metadata": {
    "tags": [
     "hide_cell"
    ]
   },
   "outputs": [],
   "source": [
    "# Loop through the agency data, creating a node for each agency\n",
    "for agency in df.itertuples():\n",
    "    net.add_node(\n",
    "        agency.id_value,\n",
    "        label=agency.id_value,\n",
    "        # Include a hyperlink to the agency record in RecordSearch\n",
    "        title=f\"<a target='_blank' href='https://recordsearch.naa.gov.au/scripts/AutoSearch.asp?Number={agency.id_value}'>{agency.id_value}, {agency.label_value}</a>\",\n",
    "        # Assign to a group based on the decade in which it was created\n",
    "        # This will colour the nodes by decade\n",
    "        group=agency.start_date_value[:3],\n",
    "        # Assign a level based on decade in which it was created\n",
    "        # This will help to position the agency hierarchically by creation date\n",
    "        level=int(agency.start_date_value[:4]),\n",
    "        # Size the node according the length of time the agency existed\n",
    "        size=calculate_size(agency.start_date_value, agency.end_date_value),\n",
    "    )"
   ]
  },
  {
   "cell_type": "code",
   "execution_count": 8,
   "id": "be969744-128e-4ad6-9faf-1710b8cda1e0",
   "metadata": {},
   "outputs": [],
   "source": [
    "# Add edges between a node and its successors\n",
    "for agency in df.dropna(subset=[\"after_id_value\"]).itertuples():\n",
    "    net.add_edge(agency.id_value, agency.after_id_value)"
   ]
  },
  {
   "cell_type": "code",
   "execution_count": 9,
   "id": "3a4de068-76fe-45b3-99f9-0def739955b3",
   "metadata": {
    "tags": [
     "hide_cell"
    ]
   },
   "outputs": [],
   "source": [
    "# Network graph configuration\n",
    "# It's easier to manange this in a Python dict then convert to JSON for PyVis\n",
    "options = {\n",
    "    \"configure\": {\"enabled\": False},\n",
    "    \"layout\": {\n",
    "        # A hierarchical layout with levels based on start date will order the agencies by time\n",
    "        \"hierarchical\": {\n",
    "            \"enabled\": True,\n",
    "            \"sortMethod\": \"directed\",\n",
    "            \"shakeTowards\": \"leaves\",\n",
    "            \"nodeSpacing\": 20,\n",
    "            \"levelSeparation\": 40,\n",
    "            \"treeSpacing\": 20,\n",
    "        }\n",
    "    },\n",
    "    \"physics\": {\"hierarchicalRepulsion\": {\"avoidOverlap\": 1, \"nodeDistance\": 180}},\n",
    "    \"nodes\": {\"font\": {\"size\": 15}},\n",
    "    # Assign colours by decade\n",
    "    \"groups\": decade_groups,\n",
    "    \"edges\": {\n",
    "        \"arrows\": {\"to\": {\"enabled\": True, \"scaleFactor\": 0.5}},\n",
    "        \"arrowStrikethrough\": False,\n",
    "        \"smooth\": {\"enabled\": True},\n",
    "        \"color\": {\"color\": \"#b0bec5\", \"inherit\": True},\n",
    "    },\n",
    "}"
   ]
  },
  {
   "cell_type": "code",
   "execution_count": 10,
   "id": "37545bc4-f1c1-4c00-9437-9562ebfabb95",
   "metadata": {},
   "outputs": [
    {
     "data": {
      "text/html": [
       "\n",
       "        <iframe\n",
       "            width=\"100%\"\n",
       "            height=\"800\"\n",
       "            src=\"agencies-network.html\"\n",
       "            frameborder=\"0\"\n",
       "            allowfullscreen\n",
       "            \n",
       "        ></iframe>\n",
       "        "
      ],
      "text/plain": [
       "<IPython.lib.display.IFrame at 0x7f451c16ea30>"
      ]
     },
     "metadata": {},
     "output_type": "display_data"
    }
   ],
   "source": [
    "net.set_options(f\"var options = {json.dumps(options)}\")\n",
    "# Doing this rather than net.show() gives better results and predicatble sizes\n",
    "net.write_html(\"agencies-network.html\", notebook=True)\n",
    "display(IFrame(\"agencies-network.html\", height=800, width=\"100%\"))"
   ]
  },
  {
   "cell_type": "markdown",
   "id": "ceea712f-4621-4c17-bf2f-5974dc696bec",
   "metadata": {},
   "source": [
    "----\n",
    "\n",
    "Created by [Tim Sherratt](https://timsherratt.org) for the [GLAM Workbench](https://glam-workbench.net/).\n",
    "\n",
    "The development of the Wikidata section of the GLAM Workbench was supported by [Wikimedia Australia](https://wikimedia.org.au/wiki/Wikimedia_Australia)."
   ]
  }
 ],
 "metadata": {
  "kernelspec": {
   "display_name": "Python 3 (ipykernel)",
   "language": "python",
   "name": "python3"
  },
  "language_info": {
   "codemirror_mode": {
    "name": "ipython",
    "version": 3
   },
   "file_extension": ".py",
   "mimetype": "text/x-python",
   "name": "python",
   "nbconvert_exporter": "python",
   "pygments_lexer": "ipython3",
   "version": "3.12.11"
  },
  "rocrate": {
   "author": [
    {
     "mainEntityOfPage": "https://timsherratt.au",
     "name": "Sherratt, Tim",
     "orcid": "https://orcid.org/0000-0001-7956-4498"
    }
   ],
   "description": "This notebook visualises changes in Australian government departments over time, using data from Wikidata. It creates a hierarchically-ordered network graph where each agency is represented as a node whose position and colour is determined by the decade in which the agency was created.",
   "mainEntityOfPage": "https://glam-workbench.net/wikidata/govt-agencies-network/",
   "name": "Create a network graph visualisation of Australian government departments",
   "position": 2,
   "workExample": [
    {
     "name": "View the interactive graph",
     "url": "https://glam-workbench.net/wikidata/examples/govt-agencies-network.html"
    }
   ]
  }
 },
 "nbformat": 4,
 "nbformat_minor": 5
}
